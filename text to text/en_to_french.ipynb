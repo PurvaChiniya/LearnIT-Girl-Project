{
  "nbformat": 4,
  "nbformat_minor": 0,
  "metadata": {
    "colab": {
      "name": "en_to _french.ipynb",
      "version": "0.3.2",
      "provenance": [],
      "collapsed_sections": [],
      "include_colab_link": true
    },
    "kernelspec": {
      "name": "python3",
      "display_name": "Python 3"
    },
    "accelerator": "GPU"
  },
  "cells": [
    {
      "cell_type": "markdown",
      "metadata": {
        "id": "view-in-github",
        "colab_type": "text"
      },
      "source": [
        "<a href=\"https://colab.research.google.com/github/PurvaChiniya/LearnIT-Girl-Project/blob/master/en_to_french.ipynb\" target=\"_parent\"><img src=\"https://colab.research.google.com/assets/colab-badge.svg\" alt=\"Open In Colab\"/></a>"
      ]
    },
    {
      "metadata": {
        "id": "UJQlK9Ytw20J",
        "colab_type": "code",
        "colab": {
          "base_uri": "https://localhost:8080/",
          "height": 346
        },
        "outputId": "3b410393-1289-4be3-f4a5-f4fdca8b3737"
      },
      "cell_type": "code",
      "source": [
        "import os\n",
        "import copy\n",
        "import pickle\n",
        "def load_data(path):\n",
        "  input_file=os.path.join(path)\n",
        "  with open(input_file, 'r',  encoding = \"ISO-8859-1\") as f:\n",
        "        data = f.read()\n",
        "  return data\n",
        "source_path=\"en.txt\"\n",
        "target_path=\"french.txt\"\n",
        "source_text=load_data(source_path)\n",
        "target_text=load_data(target_path)\n",
        "CODES={\"<PAD>\":0,\"<EOS>\":1,\"<UNK>\":2,\"<GO>\":3}\n",
        "def convert_to_tables(text):\n",
        "  vocab=set(text.split())\n",
        "  vocab_to_int=copy.copy(CODES)\n",
        "  for v_i,v in enumerate (vocab,len(CODES)):\n",
        "    vocab_to_int[v]=v_i\n",
        "  int_to_vocab={v_i:v for v,v_i in vocab_to_int.items()}\n",
        "  return vocab_to_int,int_to_vocab"
      ],
      "execution_count": 1,
      "outputs": [
        {
          "output_type": "error",
          "ename": "FileNotFoundError",
          "evalue": "ignored",
          "traceback": [
            "\u001b[0;31m---------------------------------------------------------------------------\u001b[0m",
            "\u001b[0;31mFileNotFoundError\u001b[0m                         Traceback (most recent call last)",
            "\u001b[0;32m<ipython-input-1-a3f0340002f3>\u001b[0m in \u001b[0;36m<module>\u001b[0;34m()\u001b[0m\n\u001b[1;32m      9\u001b[0m \u001b[0msource_path\u001b[0m\u001b[0;34m=\u001b[0m\u001b[0;34m\"en.txt\"\u001b[0m\u001b[0;34m\u001b[0m\u001b[0;34m\u001b[0m\u001b[0m\n\u001b[1;32m     10\u001b[0m \u001b[0mtarget_path\u001b[0m\u001b[0;34m=\u001b[0m\u001b[0;34m\"french.txt\"\u001b[0m\u001b[0;34m\u001b[0m\u001b[0;34m\u001b[0m\u001b[0m\n\u001b[0;32m---> 11\u001b[0;31m \u001b[0msource_text\u001b[0m\u001b[0;34m=\u001b[0m\u001b[0mload_data\u001b[0m\u001b[0;34m(\u001b[0m\u001b[0msource_path\u001b[0m\u001b[0;34m)\u001b[0m\u001b[0;34m\u001b[0m\u001b[0;34m\u001b[0m\u001b[0m\n\u001b[0m\u001b[1;32m     12\u001b[0m \u001b[0mtarget_text\u001b[0m\u001b[0;34m=\u001b[0m\u001b[0mload_data\u001b[0m\u001b[0;34m(\u001b[0m\u001b[0mtarget_path\u001b[0m\u001b[0;34m)\u001b[0m\u001b[0;34m\u001b[0m\u001b[0;34m\u001b[0m\u001b[0m\n\u001b[1;32m     13\u001b[0m \u001b[0mCODES\u001b[0m\u001b[0;34m=\u001b[0m\u001b[0;34m{\u001b[0m\u001b[0;34m\"<PAD>\"\u001b[0m\u001b[0;34m:\u001b[0m\u001b[0;36m0\u001b[0m\u001b[0;34m,\u001b[0m\u001b[0;34m\"<EOS>\"\u001b[0m\u001b[0;34m:\u001b[0m\u001b[0;36m1\u001b[0m\u001b[0;34m,\u001b[0m\u001b[0;34m\"<UNK>\"\u001b[0m\u001b[0;34m:\u001b[0m\u001b[0;36m2\u001b[0m\u001b[0;34m,\u001b[0m\u001b[0;34m\"<GO>\"\u001b[0m\u001b[0;34m:\u001b[0m\u001b[0;36m3\u001b[0m\u001b[0;34m}\u001b[0m\u001b[0;34m\u001b[0m\u001b[0;34m\u001b[0m\u001b[0m\n",
            "\u001b[0;32m<ipython-input-1-a3f0340002f3>\u001b[0m in \u001b[0;36mload_data\u001b[0;34m(path)\u001b[0m\n\u001b[1;32m      4\u001b[0m \u001b[0;32mdef\u001b[0m \u001b[0mload_data\u001b[0m\u001b[0;34m(\u001b[0m\u001b[0mpath\u001b[0m\u001b[0;34m)\u001b[0m\u001b[0;34m:\u001b[0m\u001b[0;34m\u001b[0m\u001b[0;34m\u001b[0m\u001b[0m\n\u001b[1;32m      5\u001b[0m   \u001b[0minput_file\u001b[0m\u001b[0;34m=\u001b[0m\u001b[0mos\u001b[0m\u001b[0;34m.\u001b[0m\u001b[0mpath\u001b[0m\u001b[0;34m.\u001b[0m\u001b[0mjoin\u001b[0m\u001b[0;34m(\u001b[0m\u001b[0mpath\u001b[0m\u001b[0;34m)\u001b[0m\u001b[0;34m\u001b[0m\u001b[0;34m\u001b[0m\u001b[0m\n\u001b[0;32m----> 6\u001b[0;31m   \u001b[0;32mwith\u001b[0m \u001b[0mopen\u001b[0m\u001b[0;34m(\u001b[0m\u001b[0minput_file\u001b[0m\u001b[0;34m,\u001b[0m \u001b[0;34m'r'\u001b[0m\u001b[0;34m,\u001b[0m  \u001b[0mencoding\u001b[0m \u001b[0;34m=\u001b[0m \u001b[0;34m\"ISO-8859-1\"\u001b[0m\u001b[0;34m)\u001b[0m \u001b[0;32mas\u001b[0m \u001b[0mf\u001b[0m\u001b[0;34m:\u001b[0m\u001b[0;34m\u001b[0m\u001b[0;34m\u001b[0m\u001b[0m\n\u001b[0m\u001b[1;32m      7\u001b[0m         \u001b[0mdata\u001b[0m \u001b[0;34m=\u001b[0m \u001b[0mf\u001b[0m\u001b[0;34m.\u001b[0m\u001b[0mread\u001b[0m\u001b[0;34m(\u001b[0m\u001b[0;34m)\u001b[0m\u001b[0;34m\u001b[0m\u001b[0;34m\u001b[0m\u001b[0m\n\u001b[1;32m      8\u001b[0m   \u001b[0;32mreturn\u001b[0m \u001b[0mdata\u001b[0m\u001b[0;34m\u001b[0m\u001b[0;34m\u001b[0m\u001b[0m\n",
            "\u001b[0;31mFileNotFoundError\u001b[0m: [Errno 2] No such file or directory: 'en.txt'"
          ]
        }
      ]
    },
    {
      "metadata": {
        "id": "78zXviNuxhJi",
        "colab_type": "code",
        "colab": {}
      },
      "cell_type": "code",
      "source": [
        "def text_to_ids(source_text,target_text,source_vocab_to_int,target_vocab_to_int):\n",
        "  source_text_id=[]\n",
        "  target_text_id=[]\n",
        "  source_sentences=source_text.split(\"\\n\")\n",
        "  target_sentences=target_text.split(\"\\n\")\n",
        "  max_source_sentence_length=max([len(sentence.split(\" \")) for sentence in source_sentences])\n",
        "  max_target_sentence_length=max([len(sentence.split(\" \")) for sentence in target_sentences])\n",
        "  for i in range(len(source_sentences)):\n",
        "    source_sentence=source_sentences[i]\n",
        "    target_sentence=target_sentences[i]\n",
        "    source_tokens=source_sentence.split(\" \")\n",
        "    target_tokens=target_sentence.split(\" \")\n",
        "    source_token_id=[]\n",
        "    target_token_id=[]\n",
        "    for index,token in enumerate(source_tokens):\n",
        "      if(token !=\"\"):\n",
        "        source_token_id.append(source_vocab_to_int[token])\n",
        "    for index,token in enumerate(target_tokens):\n",
        "      if (token !=\"\"):\n",
        "        target_token_id.append(target_vocab_to_int[token])\n",
        "    target_token_id.append(target_vocab_to_int[\"<EOS>\"])\n",
        "    source_token_id.append(source_token_id)\n",
        "    target_token_id.append(target_token_id)\n",
        "  return source_text_id,target_text_id    "
      ],
      "execution_count": 0,
      "outputs": []
    },
    {
      "metadata": {
        "id": "U10FXOAQxsCo",
        "colab_type": "code",
        "colab": {}
      },
      "cell_type": "code",
      "source": [
        "def preprocess_data_and_save_data(source_path,target_path,text_to_ids):\n",
        "  source_text=load_data(source_path)\n",
        "  target_text=load_data(target_path)\n",
        "  source_text=source_text.lower()\n",
        "  target_text=target_text.lower()\n",
        "  source_vocab_to_int,source_int_to_vocab=convert_to_tables(source_text)\n",
        "  target_vocab_to_int,target_int_to_vocab=convert_to_tables(target_text)\n",
        "  source_text,target_text=text_to_ids(source_text,target_text,source_vocab_to_int,target_vocab_to_int)\n",
        "  pickle.dump(((source_text,target_text),(source_vocab_to_int,target_vocab_to_int),(source_int_to_vocab,target_vocab_to_int)),open(\"preprocess.p\",\"wb\"))\n",
        "  "
      ],
      "execution_count": 0,
      "outputs": []
    },
    {
      "metadata": {
        "id": "MpCjkLuzYQkw",
        "colab_type": "code",
        "colab": {}
      },
      "cell_type": "code",
      "source": [
        ""
      ],
      "execution_count": 0,
      "outputs": []
    },
    {
      "metadata": {
        "id": "ZU8wNAJXBtpY",
        "colab_type": "code",
        "colab": {}
      },
      "cell_type": "code",
      "source": [
        "preprocess_data_and_save_data(source_path,target_path,text_to_ids)"
      ],
      "execution_count": 0,
      "outputs": []
    },
    {
      "metadata": {
        "id": "_H3nWUawazd8",
        "colab_type": "text"
      },
      "cell_type": "markdown",
      "source": [
        "CHECKPOINT"
      ]
    },
    {
      "metadata": {
        "id": "i0c02mtKJW7m",
        "colab_type": "code",
        "colab": {}
      },
      "cell_type": "code",
      "source": [
        "def load_preprocess():\n",
        "    with open('preprocess.p', mode='rb') as in_file:\n",
        "        return pickle.load(in_file)\n",
        "import numpy as np\n",
        "(source_int_text, target_int_text), (source_vocab_to_int, target_vocab_to_int), _ = load_preprocess()      "
      ],
      "execution_count": 0,
      "outputs": []
    },
    {
      "metadata": {
        "id": "d0uaXWf7T6si",
        "colab_type": "code",
        "outputId": "a4353f4f-81fa-4823-cb05-01f2c5d35a6e",
        "colab": {
          "base_uri": "https://localhost:8080/",
          "height": 50
        }
      },
      "cell_type": "code",
      "source": [
        "from distutils.version import LooseVersion\n",
        "import warnings\n",
        "import tensorflow as tf\n",
        "from tensorflow.python.layers.core import Dense\n",
        "\n",
        "# Check TensorFlow Version\n",
        "assert LooseVersion(tf.__version__) >= LooseVersion('1.1'), 'Please use TensorFlow version 1.1 or newer'\n",
        "print('TensorFlow Version: {}'.format(tf.__version__))\n",
        "\n",
        "# Check for a GPU\n",
        "if not tf.test.gpu_device_name():\n",
        "    warnings.warn('No GPU found. Please use a GPU to train your neural network.')\n",
        "else:\n",
        "    print('Default GPU Device: {}'.format(tf.test.gpu_device_name()))"
      ],
      "execution_count": 0,
      "outputs": [
        {
          "output_type": "stream",
          "text": [
            "TensorFlow Version: 1.12.0\n",
            "Default GPU Device: /device:GPU:0\n"
          ],
          "name": "stdout"
        }
      ]
    },
    {
      "metadata": {
        "id": "lHC5MJinb15d",
        "colab_type": "text"
      },
      "cell_type": "markdown",
      "source": [
        "NUERAL NETWORK"
      ]
    },
    {
      "metadata": {
        "id": "Rbx4Xux02hCu",
        "colab_type": "code",
        "colab": {}
      },
      "cell_type": "code",
      "source": [
        "def inputs():\n",
        "  inputs=tf.placeholder(tf.int32,[None,None],name=\"inputs\")\n",
        "  targets=tf.placeholder(tf.int32,[None,None],name=\"targets\")\n",
        "  target_sequence_length=tf.placeholder(tf.int32,[None],name=\"target_sequence_length\")\n",
        "  max_target_length=tf.reduce_max(target_sequence_length)\n",
        "  return inputs,targets,target_sequence_length\n",
        "  "
      ],
      "execution_count": 0,
      "outputs": []
    },
    {
      "metadata": {
        "id": "XWs-HGVw35h4",
        "colab_type": "code",
        "colab": {}
      },
      "cell_type": "code",
      "source": [
        "def hyperparam_inputs():\n",
        "  lr_rate=tf.placeholder(tf.float32,name=\"lr_rate\")\n",
        "  keep_prob=tf.placeholder(tf.float32,name=\"keep_prob\")\n",
        "  return lr_rate,keep_prob\n",
        "  "
      ],
      "execution_count": 0,
      "outputs": []
    },
    {
      "metadata": {
        "id": "tlmbryEI49yk",
        "colab_type": "code",
        "colab": {}
      },
      "cell_type": "code",
      "source": [
        "def process_decoder_input(target_data,target_vocab_to_int,batch_size):\n",
        "  go_id=target_vocab_to_int[\"<GO>\"]\n",
        "  after_slice=tf.strided_slice(target_data,[0,0],[batch_size,-1],[1,1])\n",
        "  after_concat=tf.concat([tf.fill([batch_size,1],go_id),after_slice],1)\n",
        "  return after_concat"
      ],
      "execution_count": 0,
      "outputs": []
    },
    {
      "metadata": {
        "id": "aSGoHa_C4-cq",
        "colab_type": "code",
        "colab": {}
      },
      "cell_type": "code",
      "source": [
        "\n",
        "def encoding_layer(rnn_inputs, rnn_size, num_layers, keep_prob, \n",
        "                   source_vocab_size, \n",
        "                   encoding_embedding_size):\n",
        "    \"\"\"\n",
        "    :return: tuple (RNN output, RNN state)\n",
        "    \"\"\"\n",
        "    embed = tf.contrib.layers.embed_sequence(rnn_inputs, \n",
        "                                             vocab_size=source_vocab_size, \n",
        "                                             embed_dim=encoding_embedding_size)\n",
        "    \n",
        "    stacked_cells = tf.contrib.rnn.MultiRNNCell([tf.contrib.rnn.DropoutWrapper(tf.contrib.rnn.LSTMCell(rnn_size), keep_prob) for _ in range(num_layers)])\n",
        "    \n",
        "    outputs, state = tf.nn.dynamic_rnn(stacked_cells, \n",
        "                                       embed, \n",
        "                                       dtype=tf.float32)\n",
        "    return outputs, state"
      ],
      "execution_count": 0,
      "outputs": []
    },
    {
      "metadata": {
        "id": "B_VyWQuZ5UW3",
        "colab_type": "code",
        "colab": {}
      },
      "cell_type": "code",
      "source": [
        "def decoding_layer_train(encoder_state, dec_cell, dec_embed_input, \n",
        "                         target_sequence_length, max_summary_length, \n",
        "                         output_layer, keep_prob):\n",
        "    \"\"\"\n",
        "    Create a training process in decoding layer \n",
        "    :return: BasicDecoderOutput containing training logits and sample_id\n",
        "    \"\"\"\n",
        "    dec_cell = tf.contrib.rnn.DropoutWrapper(dec_cell, \n",
        "                                             output_keep_prob=keep_prob)\n",
        "    \n",
        "    # for only input layer\n",
        "    helper = tf.contrib.seq2seq.TrainingHelper(dec_embed_input, \n",
        "                                               target_sequence_length)\n",
        "    \n",
        "    decoder = tf.contrib.seq2seq.BasicDecoder(dec_cell, \n",
        "                                              helper, \n",
        "                                              encoder_state, \n",
        "                                              output_layer)\n",
        "\n",
        "    # unrolling the decoder layer\n",
        "    outputs, _, _ = tf.contrib.seq2seq.dynamic_decode(decoder, \n",
        "                                                      impute_finished=True, \n",
        "                                                      maximum_iterations=max_summary_length)\n",
        "    return outputs"
      ],
      "execution_count": 0,
      "outputs": []
    },
    {
      "metadata": {
        "id": "scUqYy-05cUX",
        "colab_type": "code",
        "colab": {}
      },
      "cell_type": "code",
      "source": [
        "def decoding_layer_infer(encoder_state, dec_cell, dec_embeddings, start_of_sequence_id,\n",
        "                         end_of_sequence_id, max_target_sequence_length,\n",
        "                         vocab_size, output_layer, batch_size, keep_prob):\n",
        "    \"\"\"\n",
        "    Create a inference process in decoding layer \n",
        "    :return: BasicDecoderOutput containing inference logits and sample_id\n",
        "    \"\"\"\n",
        "    dec_cell = tf.contrib.rnn.DropoutWrapper(dec_cell, \n",
        "                                             output_keep_prob=keep_prob)\n",
        "    \n",
        "    helper = tf.contrib.seq2seq.GreedyEmbeddingHelper(dec_embeddings, \n",
        "                                                      tf.fill([batch_size], start_of_sequence_id), \n",
        "                                                      end_of_sequence_id)\n",
        "    \n",
        "    decoder = tf.contrib.seq2seq.BasicDecoder(dec_cell, \n",
        "                                              helper, \n",
        "                                              encoder_state, \n",
        "                                              output_layer)\n",
        "    \n",
        "    outputs, _, _ = tf.contrib.seq2seq.dynamic_decode(decoder, \n",
        "                                                      impute_finished=True, \n",
        "                                                      maximum_iterations=max_target_sequence_length)\n",
        "    return outputs"
      ],
      "execution_count": 0,
      "outputs": []
    },
    {
      "metadata": {
        "id": "aIURu8ODeHbv",
        "colab_type": "code",
        "colab": {}
      },
      "cell_type": "code",
      "source": [
        "def decoding_layer(dec_input, encoder_state,\n",
        "                   target_sequence_length, max_target_sequence_length,\n",
        "                   rnn_size,\n",
        "                   num_layers, target_vocab_to_int, target_vocab_size,\n",
        "                   batch_size, keep_prob, decoding_embedding_size):\n",
        "    \"\"\"\n",
        "    Create decoding layer\n",
        "    :return: Tuple of (Training BasicDecoderOutput, Inference BasicDecoderOutput)\n",
        "    \"\"\"\n",
        "    target_vocab_size = len(target_vocab_to_int)\n",
        "    dec_embeddings = tf.Variable(tf.random_uniform([target_vocab_size, decoding_embedding_size]))\n",
        "    dec_embed_input = tf.nn.embedding_lookup(dec_embeddings, dec_input)\n",
        "    \n",
        "    cells = tf.contrib.rnn.MultiRNNCell([tf.contrib.rnn.LSTMCell(rnn_size) for _ in range(num_layers)])\n",
        "    \n",
        "    with tf.variable_scope(\"decode\"):\n",
        "        output_layer = tf.layers.Dense(target_vocab_size)\n",
        "        train_output = decoding_layer_train(encoder_state, \n",
        "                                            cells, \n",
        "                                            dec_embed_input, \n",
        "                                            target_sequence_length, \n",
        "                                            max_target_sequence_length, \n",
        "                                            output_layer, \n",
        "                                            keep_prob)\n",
        "\n",
        "    with tf.variable_scope(\"decode\", reuse=True):\n",
        "        infer_output = decoding_layer_infer(encoder_state, \n",
        "                                            cells, \n",
        "                                            dec_embeddings, \n",
        "                                            target_vocab_to_int['<GO>'], \n",
        "                                            target_vocab_to_int['<EOS>'], \n",
        "                                            max_target_sequence_length, \n",
        "                                            target_vocab_size, \n",
        "                                            output_layer,\n",
        "                                            batch_size,\n",
        "                                            keep_prob)\n",
        "\n",
        "    return (train_output, infer_output)"
      ],
      "execution_count": 0,
      "outputs": []
    },
    {
      "metadata": {
        "id": "Z2IrPhaXeHwD",
        "colab_type": "code",
        "colab": {}
      },
      "cell_type": "code",
      "source": [
        "def seq2seq_model(input_data, target_data, keep_prob, batch_size,\n",
        "                  target_sequence_length,\n",
        "                  max_target_sentence_length,\n",
        "                  source_vocab_size, target_vocab_size,\n",
        "                  enc_embedding_size, dec_embedding_size,\n",
        "                  rnn_size, num_layers, target_vocab_to_int):\n",
        "    \"\"\"\n",
        "    Build the Sequence-to-Sequence model\n",
        "    :return: Tuple of (Training BasicDecoderOutput, Inference BasicDecoderOutput)\n",
        "    \"\"\"\n",
        "    enc_outputs, enc_states = encoding_layer(input_data, \n",
        "                                             rnn_size, \n",
        "                                             num_layers, \n",
        "                                             keep_prob, \n",
        "                                             source_vocab_size, \n",
        "                                             enc_embedding_size)\n",
        "    \n",
        "    dec_input = process_decoder_input(target_data, \n",
        "                                      target_vocab_to_int, \n",
        "                                      batch_size)\n",
        "    \n",
        "    train_output, infer_output = decoding_layer(dec_input,\n",
        "                                               enc_states, \n",
        "                                               target_sequence_length, \n",
        "                                               max_target_sentence_length,\n",
        "                                               rnn_size,\n",
        "                                              num_layers,\n",
        "                                              target_vocab_to_int,\n",
        "                                              target_vocab_size,\n",
        "                                              batch_size,\n",
        "                                              keep_prob,\n",
        "                                              dec_embedding_size)\n",
        "    \n",
        "    return train_output, infer_output\n"
      ],
      "execution_count": 0,
      "outputs": []
    },
    {
      "metadata": {
        "id": "a8gMARs1eK-h",
        "colab_type": "code",
        "colab": {}
      },
      "cell_type": "code",
      "source": [
        "display_step = 300\n",
        "\n",
        "epochs = 13\n",
        "batch_size = 128\n",
        "\n",
        "rnn_size = 128\n",
        "num_layers = 3\n",
        "\n",
        "encoding_embedding_size = 200\n",
        "decoding_embedding_size = 200\n",
        "\n",
        "learning_rate = 0.001\n",
        "keep_probability = 0.5"
      ],
      "execution_count": 0,
      "outputs": []
    },
    {
      "metadata": {
        "id": "nODJFPZiePOz",
        "colab_type": "code",
        "colab": {}
      },
      "cell_type": "code",
      "source": [
        "save_path = 'checkpoints/dev'\n",
        "(source_int_text, target_int_text), (source_vocab_to_int, target_vocab_to_int), _ = load_preprocess()\n",
        "max_target_sentence_length = max([len(sentence) for sentence in source_int_text])\n",
        "\n",
        "train_graph = tf.Graph()\n",
        "with train_graph.as_default():\n",
        "    input_data, targets, target_sequence_length, max_target_sequence_length = enc_dec_model_inputs()\n",
        "    lr, keep_prob = hyperparam_inputs()\n",
        "    \n",
        "    train_logits, inference_logits = seq2seq_model(tf.reverse(input_data, [-1]),\n",
        "                                                   targets,\n",
        "                                                   keep_prob,\n",
        "                                                   batch_size,\n",
        "                                                   target_sequence_length,\n",
        "                                                   max_target_sequence_length,\n",
        "                                                   len(source_vocab_to_int),\n",
        "                                                   len(target_vocab_to_int),\n",
        "                                                   encoding_embedding_size,\n",
        "                                                   decoding_embedding_size,\n",
        "                                                   rnn_size,\n",
        "                                                   num_layers,\n",
        "                                                   target_vocab_to_int)\n",
        "    \n",
        "    training_logits = tf.identity(train_logits.rnn_output, name='logits')\n",
        "    inference_logits = tf.identity(inference_logits.sample_id, name='predictions')\n",
        "\n",
        "    # https://www.tensorflow.org/api_docs/python/tf/sequence_mask\n",
        "    # - Returns a mask tensor representing the first N positions of each cell.\n",
        "    masks = tf.sequence_mask(target_sequence_length, max_target_sequence_length, dtype=tf.float32, name='masks')\n",
        "\n",
        "    with tf.name_scope(\"optimization\"):\n",
        "        # Loss function - weighted softmax cross entropy\n",
        "        cost = tf.contrib.seq2seq.sequence_loss(\n",
        "            training_logits,\n",
        "            targets,\n",
        "            masks)\n",
        "\n",
        "        # Optimizer\n",
        "        optimizer = tf.train.AdamOptimizer(lr)\n",
        "\n",
        "        # Gradient Clipping\n",
        "        gradients = optimizer.compute_gradients(cost)\n",
        "        capped_gradients = [(tf.clip_by_value(grad, -1., 1.), var) for grad, var in gradients if grad is not None]\n",
        "        train_op = optimizer.apply_gradients(capped_gradients)"
      ],
      "execution_count": 0,
      "outputs": []
    },
    {
      "metadata": {
        "id": "WnVc7GefeTpg",
        "colab_type": "code",
        "colab": {}
      },
      "cell_type": "code",
      "source": [
        ""
      ],
      "execution_count": 0,
      "outputs": []
    }
  ]
}
